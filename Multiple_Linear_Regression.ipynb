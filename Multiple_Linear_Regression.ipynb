{
  "nbformat": 4,
  "nbformat_minor": 0,
  "metadata": {
    "colab": {
      "name": "Multiple Linear Regression.ipynb",
      "provenance": [],
      "authorship_tag": "ABX9TyO6EPJ/24O3i12W9vsEFcB2",
      "include_colab_link": true
    },
    "kernelspec": {
      "name": "python3",
      "display_name": "Python 3"
    },
    "language_info": {
      "name": "python"
    }
  },
  "cells": [
    {
      "cell_type": "markdown",
      "metadata": {
        "id": "view-in-github",
        "colab_type": "text"
      },
      "source": [
        "<a href=\"https://colab.research.google.com/github/amfsunlimited/Machine-Learning-Beginner-/blob/main/Multiple_Linear_Regression.ipynb\" target=\"_parent\"><img src=\"https://colab.research.google.com/assets/colab-badge.svg\" alt=\"Open In Colab\"/></a>"
      ]
    },
    {
      "cell_type": "markdown",
      "source": [
        "Importing libraries: Firstly we will import the library which will help in building the model. Below is the code for it:"
      ],
      "metadata": {
        "id": "U8PEZm792dtq"
      }
    },
    {
      "cell_type": "code",
      "execution_count": 1,
      "metadata": {
        "id": "Wjn1JYO4eNGy"
      },
      "outputs": [],
      "source": [
        "import numpy as np\n",
        "import pandas as pd\n",
        "import matplotlib.pyplot as mtp"
      ]
    },
    {
      "cell_type": "markdown",
      "source": [
        "Importing dataset: Now we will import the dataset(50_CompList), which contains all the variables. Below is the code for it:"
      ],
      "metadata": {
        "id": "SHk7Ghwr2czy"
      }
    },
    {
      "cell_type": "code",
      "source": [
        "data_set = pd.read_csv(\"Real estate.csv\")\n",
        "data_set"
      ],
      "metadata": {
        "colab": {
          "base_uri": "https://localhost:8080/",
          "height": 485
        },
        "id": "ICiVQAwH24ED",
        "outputId": "ff465455-3c62-4f1d-be1d-497a44ce0abb"
      },
      "execution_count": 16,
      "outputs": [
        {
          "output_type": "execute_result",
          "data": {
            "text/plain": [
              "     X1 transaction date  X2 house age  \\\n",
              "0               2012.917          32.0   \n",
              "1               2012.917          19.5   \n",
              "2               2013.583          13.3   \n",
              "3               2013.500          13.3   \n",
              "4               2012.833           5.0   \n",
              "..                   ...           ...   \n",
              "409             2013.000          13.7   \n",
              "410             2012.667           5.6   \n",
              "411             2013.250          18.8   \n",
              "412             2013.000           8.1   \n",
              "413             2013.500           6.5   \n",
              "\n",
              "     X3 distance to the nearest MRT station  X4 number of convenience stores  \\\n",
              "0                                  84.87882                               10   \n",
              "1                                 306.59470                                9   \n",
              "2                                 561.98450                                5   \n",
              "3                                 561.98450                                5   \n",
              "4                                 390.56840                                5   \n",
              "..                                      ...                              ...   \n",
              "409                              4082.01500                                0   \n",
              "410                                90.45606                                9   \n",
              "411                               390.96960                                7   \n",
              "412                               104.81010                                5   \n",
              "413                                90.45606                                9   \n",
              "\n",
              "     X5 latitude  X6 longitude  Y house price of unit area  \n",
              "0       24.98298     121.54024                        37.9  \n",
              "1       24.98034     121.53951                        42.2  \n",
              "2       24.98746     121.54391                        47.3  \n",
              "3       24.98746     121.54391                        54.8  \n",
              "4       24.97937     121.54245                        43.1  \n",
              "..           ...           ...                         ...  \n",
              "409     24.94155     121.50381                        15.4  \n",
              "410     24.97433     121.54310                        50.0  \n",
              "411     24.97923     121.53986                        40.6  \n",
              "412     24.96674     121.54067                        52.5  \n",
              "413     24.97433     121.54310                        63.9  \n",
              "\n",
              "[414 rows x 7 columns]"
            ],
            "text/html": [
              "\n",
              "  <div id=\"df-9f31fd73-d180-4643-8437-726ecf7f2e21\">\n",
              "    <div class=\"colab-df-container\">\n",
              "      <div>\n",
              "<style scoped>\n",
              "    .dataframe tbody tr th:only-of-type {\n",
              "        vertical-align: middle;\n",
              "    }\n",
              "\n",
              "    .dataframe tbody tr th {\n",
              "        vertical-align: top;\n",
              "    }\n",
              "\n",
              "    .dataframe thead th {\n",
              "        text-align: right;\n",
              "    }\n",
              "</style>\n",
              "<table border=\"1\" class=\"dataframe\">\n",
              "  <thead>\n",
              "    <tr style=\"text-align: right;\">\n",
              "      <th></th>\n",
              "      <th>X1 transaction date</th>\n",
              "      <th>X2 house age</th>\n",
              "      <th>X3 distance to the nearest MRT station</th>\n",
              "      <th>X4 number of convenience stores</th>\n",
              "      <th>X5 latitude</th>\n",
              "      <th>X6 longitude</th>\n",
              "      <th>Y house price of unit area</th>\n",
              "    </tr>\n",
              "  </thead>\n",
              "  <tbody>\n",
              "    <tr>\n",
              "      <th>0</th>\n",
              "      <td>2012.917</td>\n",
              "      <td>32.0</td>\n",
              "      <td>84.87882</td>\n",
              "      <td>10</td>\n",
              "      <td>24.98298</td>\n",
              "      <td>121.54024</td>\n",
              "      <td>37.9</td>\n",
              "    </tr>\n",
              "    <tr>\n",
              "      <th>1</th>\n",
              "      <td>2012.917</td>\n",
              "      <td>19.5</td>\n",
              "      <td>306.59470</td>\n",
              "      <td>9</td>\n",
              "      <td>24.98034</td>\n",
              "      <td>121.53951</td>\n",
              "      <td>42.2</td>\n",
              "    </tr>\n",
              "    <tr>\n",
              "      <th>2</th>\n",
              "      <td>2013.583</td>\n",
              "      <td>13.3</td>\n",
              "      <td>561.98450</td>\n",
              "      <td>5</td>\n",
              "      <td>24.98746</td>\n",
              "      <td>121.54391</td>\n",
              "      <td>47.3</td>\n",
              "    </tr>\n",
              "    <tr>\n",
              "      <th>3</th>\n",
              "      <td>2013.500</td>\n",
              "      <td>13.3</td>\n",
              "      <td>561.98450</td>\n",
              "      <td>5</td>\n",
              "      <td>24.98746</td>\n",
              "      <td>121.54391</td>\n",
              "      <td>54.8</td>\n",
              "    </tr>\n",
              "    <tr>\n",
              "      <th>4</th>\n",
              "      <td>2012.833</td>\n",
              "      <td>5.0</td>\n",
              "      <td>390.56840</td>\n",
              "      <td>5</td>\n",
              "      <td>24.97937</td>\n",
              "      <td>121.54245</td>\n",
              "      <td>43.1</td>\n",
              "    </tr>\n",
              "    <tr>\n",
              "      <th>...</th>\n",
              "      <td>...</td>\n",
              "      <td>...</td>\n",
              "      <td>...</td>\n",
              "      <td>...</td>\n",
              "      <td>...</td>\n",
              "      <td>...</td>\n",
              "      <td>...</td>\n",
              "    </tr>\n",
              "    <tr>\n",
              "      <th>409</th>\n",
              "      <td>2013.000</td>\n",
              "      <td>13.7</td>\n",
              "      <td>4082.01500</td>\n",
              "      <td>0</td>\n",
              "      <td>24.94155</td>\n",
              "      <td>121.50381</td>\n",
              "      <td>15.4</td>\n",
              "    </tr>\n",
              "    <tr>\n",
              "      <th>410</th>\n",
              "      <td>2012.667</td>\n",
              "      <td>5.6</td>\n",
              "      <td>90.45606</td>\n",
              "      <td>9</td>\n",
              "      <td>24.97433</td>\n",
              "      <td>121.54310</td>\n",
              "      <td>50.0</td>\n",
              "    </tr>\n",
              "    <tr>\n",
              "      <th>411</th>\n",
              "      <td>2013.250</td>\n",
              "      <td>18.8</td>\n",
              "      <td>390.96960</td>\n",
              "      <td>7</td>\n",
              "      <td>24.97923</td>\n",
              "      <td>121.53986</td>\n",
              "      <td>40.6</td>\n",
              "    </tr>\n",
              "    <tr>\n",
              "      <th>412</th>\n",
              "      <td>2013.000</td>\n",
              "      <td>8.1</td>\n",
              "      <td>104.81010</td>\n",
              "      <td>5</td>\n",
              "      <td>24.96674</td>\n",
              "      <td>121.54067</td>\n",
              "      <td>52.5</td>\n",
              "    </tr>\n",
              "    <tr>\n",
              "      <th>413</th>\n",
              "      <td>2013.500</td>\n",
              "      <td>6.5</td>\n",
              "      <td>90.45606</td>\n",
              "      <td>9</td>\n",
              "      <td>24.97433</td>\n",
              "      <td>121.54310</td>\n",
              "      <td>63.9</td>\n",
              "    </tr>\n",
              "  </tbody>\n",
              "</table>\n",
              "<p>414 rows × 7 columns</p>\n",
              "</div>\n",
              "      <button class=\"colab-df-convert\" onclick=\"convertToInteractive('df-9f31fd73-d180-4643-8437-726ecf7f2e21')\"\n",
              "              title=\"Convert this dataframe to an interactive table.\"\n",
              "              style=\"display:none;\">\n",
              "        \n",
              "  <svg xmlns=\"http://www.w3.org/2000/svg\" height=\"24px\"viewBox=\"0 0 24 24\"\n",
              "       width=\"24px\">\n",
              "    <path d=\"M0 0h24v24H0V0z\" fill=\"none\"/>\n",
              "    <path d=\"M18.56 5.44l.94 2.06.94-2.06 2.06-.94-2.06-.94-.94-2.06-.94 2.06-2.06.94zm-11 1L8.5 8.5l.94-2.06 2.06-.94-2.06-.94L8.5 2.5l-.94 2.06-2.06.94zm10 10l.94 2.06.94-2.06 2.06-.94-2.06-.94-.94-2.06-.94 2.06-2.06.94z\"/><path d=\"M17.41 7.96l-1.37-1.37c-.4-.4-.92-.59-1.43-.59-.52 0-1.04.2-1.43.59L10.3 9.45l-7.72 7.72c-.78.78-.78 2.05 0 2.83L4 21.41c.39.39.9.59 1.41.59.51 0 1.02-.2 1.41-.59l7.78-7.78 2.81-2.81c.8-.78.8-2.07 0-2.86zM5.41 20L4 18.59l7.72-7.72 1.47 1.35L5.41 20z\"/>\n",
              "  </svg>\n",
              "      </button>\n",
              "      \n",
              "  <style>\n",
              "    .colab-df-container {\n",
              "      display:flex;\n",
              "      flex-wrap:wrap;\n",
              "      gap: 12px;\n",
              "    }\n",
              "\n",
              "    .colab-df-convert {\n",
              "      background-color: #E8F0FE;\n",
              "      border: none;\n",
              "      border-radius: 50%;\n",
              "      cursor: pointer;\n",
              "      display: none;\n",
              "      fill: #1967D2;\n",
              "      height: 32px;\n",
              "      padding: 0 0 0 0;\n",
              "      width: 32px;\n",
              "    }\n",
              "\n",
              "    .colab-df-convert:hover {\n",
              "      background-color: #E2EBFA;\n",
              "      box-shadow: 0px 1px 2px rgba(60, 64, 67, 0.3), 0px 1px 3px 1px rgba(60, 64, 67, 0.15);\n",
              "      fill: #174EA6;\n",
              "    }\n",
              "\n",
              "    [theme=dark] .colab-df-convert {\n",
              "      background-color: #3B4455;\n",
              "      fill: #D2E3FC;\n",
              "    }\n",
              "\n",
              "    [theme=dark] .colab-df-convert:hover {\n",
              "      background-color: #434B5C;\n",
              "      box-shadow: 0px 1px 3px 1px rgba(0, 0, 0, 0.15);\n",
              "      filter: drop-shadow(0px 1px 2px rgba(0, 0, 0, 0.3));\n",
              "      fill: #FFFFFF;\n",
              "    }\n",
              "  </style>\n",
              "\n",
              "      <script>\n",
              "        const buttonEl =\n",
              "          document.querySelector('#df-9f31fd73-d180-4643-8437-726ecf7f2e21 button.colab-df-convert');\n",
              "        buttonEl.style.display =\n",
              "          google.colab.kernel.accessAllowed ? 'block' : 'none';\n",
              "\n",
              "        async function convertToInteractive(key) {\n",
              "          const element = document.querySelector('#df-9f31fd73-d180-4643-8437-726ecf7f2e21');\n",
              "          const dataTable =\n",
              "            await google.colab.kernel.invokeFunction('convertToInteractive',\n",
              "                                                     [key], {});\n",
              "          if (!dataTable) return;\n",
              "\n",
              "          const docLinkHtml = 'Like what you see? Visit the ' +\n",
              "            '<a target=\"_blank\" href=https://colab.research.google.com/notebooks/data_table.ipynb>data table notebook</a>'\n",
              "            + ' to learn more about interactive tables.';\n",
              "          element.innerHTML = '';\n",
              "          dataTable['output_type'] = 'display_data';\n",
              "          await google.colab.output.renderOutput(dataTable, element);\n",
              "          const docLink = document.createElement('div');\n",
              "          docLink.innerHTML = docLinkHtml;\n",
              "          element.appendChild(docLink);\n",
              "        }\n",
              "      </script>\n",
              "    </div>\n",
              "  </div>\n",
              "  "
            ]
          },
          "metadata": {},
          "execution_count": 16
        }
      ]
    },
    {
      "cell_type": "markdown",
      "source": [
        "Extracting dependent and independent Variables:"
      ],
      "metadata": {
        "id": "XZbqpdc6-6HA"
      }
    },
    {
      "cell_type": "code",
      "source": [
        "x = data_set.iloc[:,:-1].values"
      ],
      "metadata": {
        "id": "5VASTc0O3XWH"
      },
      "execution_count": 26,
      "outputs": []
    },
    {
      "cell_type": "code",
      "source": [
        "y = data_set.iloc[:,6:].values"
      ],
      "metadata": {
        "id": "vWWEwRTI4sUd"
      },
      "execution_count": 33,
      "outputs": []
    },
    {
      "cell_type": "code",
      "source": [
        "y\n"
      ],
      "metadata": {
        "id": "Yn_gWH6C7HJ-"
      },
      "execution_count": null,
      "outputs": []
    },
    {
      "cell_type": "markdown",
      "source": [
        "Now we will split the dataset into training and test set. The code for this is given below:"
      ],
      "metadata": {
        "id": "fGWmr1JY_3Dn"
      }
    },
    {
      "cell_type": "code",
      "source": [
        "# Splitting the dataset into training and test set.  \n",
        "from sklearn.model_selection import train_test_split  \n",
        "x_train, x_test, y_train, y_test= train_test_split(x, y, test_size= 0.2, random_state=0)  "
      ],
      "metadata": {
        "id": "zfLqW8K28Umw"
      },
      "execution_count": 35,
      "outputs": []
    },
    {
      "cell_type": "markdown",
      "source": [
        "In MLR, we will not do feature scaling as it is taken care by the library, so we don't need to do it manually."
      ],
      "metadata": {
        "id": "Q0EHipQwBDAl"
      }
    },
    {
      "cell_type": "code",
      "source": [
        "len(y_test),len(y_train)"
      ],
      "metadata": {
        "colab": {
          "base_uri": "https://localhost:8080/"
        },
        "id": "QV3JA2a6_9Ff",
        "outputId": "9f2f05c2-063d-43a4-922a-e303384f78a3"
      },
      "execution_count": 39,
      "outputs": [
        {
          "output_type": "execute_result",
          "data": {
            "text/plain": [
              "(83, 331)"
            ]
          },
          "metadata": {},
          "execution_count": 39
        }
      ]
    },
    {
      "cell_type": "markdown",
      "source": [
        "Step: 2- Fitting our MLR model to the Training set:\n",
        "Now, we have well prepared our dataset in order to provide training, which means we will fit our regression model to the training set. It will be similar to as we did in Simple Linear Regression\n",
        "model. The code for this will be:"
      ],
      "metadata": {
        "id": "sy6FFnU3BPaq"
      }
    },
    {
      "cell_type": "code",
      "source": [
        "#Fitting the MLR model to the training set:  \n",
        "from sklearn.linear_model import LinearRegression\n",
        "\n",
        "reg = LinearRegression()\n",
        "reg.fit(x_train,y_train)"
      ],
      "metadata": {
        "colab": {
          "base_uri": "https://localhost:8080/"
        },
        "id": "yukPF3raAHL9",
        "outputId": "1382dcb9-7359-4e3e-f339-28f25397d1e7"
      },
      "execution_count": 40,
      "outputs": [
        {
          "output_type": "execute_result",
          "data": {
            "text/plain": [
              "LinearRegression()"
            ]
          },
          "metadata": {},
          "execution_count": 40
        }
      ]
    },
    {
      "cell_type": "markdown",
      "source": [
        "Step: 3- Prediction of Test set results:\n",
        "The last step for our model is checking the performance of the model. We will do it by predicting the test set result. For prediction, we will create a y_pred vector. Below is the code for it:"
      ],
      "metadata": {
        "id": "CyNrbDIsBqvK"
      }
    },
    {
      "cell_type": "code",
      "source": [
        "y_pred = reg.predict(x_test)"
      ],
      "metadata": {
        "id": "MaW5Z6lJBiMu"
      },
      "execution_count": 41,
      "outputs": []
    },
    {
      "cell_type": "code",
      "source": [
        "from sklearn.metrics import r2_score\n",
        "r2_score(y_test,y_pred)"
      ],
      "metadata": {
        "colab": {
          "base_uri": "https://localhost:8080/"
        },
        "id": "fq2azhd9BwF0",
        "outputId": "b75f7732-3747-4ffb-84d4-cd736bef729a"
      },
      "execution_count": 43,
      "outputs": [
        {
          "output_type": "execute_result",
          "data": {
            "text/plain": [
              "0.6573242742218013"
            ]
          },
          "metadata": {},
          "execution_count": 43
        }
      ]
    },
    {
      "cell_type": "code",
      "source": [
        "print('Train Score: ', reg.score(x_train, y_train))  \n",
        "print('Test Score: ', reg.score(x_test, y_test))  "
      ],
      "metadata": {
        "colab": {
          "base_uri": "https://localhost:8080/"
        },
        "id": "Egn1jntUBxTN",
        "outputId": "9e65b827-b946-41bf-c960-e84e119b16cd"
      },
      "execution_count": 44,
      "outputs": [
        {
          "output_type": "stream",
          "name": "stdout",
          "text": [
            "Train Score:  0.5648053492261488\n",
            "Test Score:  0.6573242742218013\n"
          ]
        }
      ]
    },
    {
      "cell_type": "code",
      "source": [
        ""
      ],
      "metadata": {
        "id": "sNT5E2FqDSVZ"
      },
      "execution_count": null,
      "outputs": []
    }
  ]
}